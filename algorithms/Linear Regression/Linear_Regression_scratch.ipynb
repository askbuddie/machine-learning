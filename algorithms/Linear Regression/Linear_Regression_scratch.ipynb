{
 "cells": [
  {
   "cell_type": "code",
   "execution_count": 39,
   "id": "d98b4be2",
   "metadata": {},
   "outputs": [],
   "source": [
    "import pandas as pd\n",
    "import numpy as np\n",
    "import matplotlib.pyplot as plt\n",
    "import seaborn as sns"
   ]
  },
  {
   "cell_type": "code",
   "execution_count": 40,
   "id": "65aceb3c",
   "metadata": {},
   "outputs": [
    {
     "data": {
      "text/html": [
       "<div>\n",
       "<style scoped>\n",
       "    .dataframe tbody tr th:only-of-type {\n",
       "        vertical-align: middle;\n",
       "    }\n",
       "\n",
       "    .dataframe tbody tr th {\n",
       "        vertical-align: top;\n",
       "    }\n",
       "\n",
       "    .dataframe thead th {\n",
       "        text-align: right;\n",
       "    }\n",
       "</style>\n",
       "<table border=\"1\" class=\"dataframe\">\n",
       "  <thead>\n",
       "    <tr style=\"text-align: right;\">\n",
       "      <th></th>\n",
       "      <th>Population</th>\n",
       "      <th>Profit</th>\n",
       "    </tr>\n",
       "  </thead>\n",
       "  <tbody>\n",
       "    <tr>\n",
       "      <th>0</th>\n",
       "      <td>6.1101</td>\n",
       "      <td>17.5920</td>\n",
       "    </tr>\n",
       "    <tr>\n",
       "      <th>1</th>\n",
       "      <td>5.5277</td>\n",
       "      <td>9.1302</td>\n",
       "    </tr>\n",
       "    <tr>\n",
       "      <th>2</th>\n",
       "      <td>8.5186</td>\n",
       "      <td>13.6620</td>\n",
       "    </tr>\n",
       "    <tr>\n",
       "      <th>3</th>\n",
       "      <td>7.0032</td>\n",
       "      <td>11.8540</td>\n",
       "    </tr>\n",
       "    <tr>\n",
       "      <th>4</th>\n",
       "      <td>5.8598</td>\n",
       "      <td>6.8233</td>\n",
       "    </tr>\n",
       "  </tbody>\n",
       "</table>\n",
       "</div>"
      ],
      "text/plain": [
       "   Population   Profit\n",
       "0      6.1101  17.5920\n",
       "1      5.5277   9.1302\n",
       "2      8.5186  13.6620\n",
       "3      7.0032  11.8540\n",
       "4      5.8598   6.8233"
      ]
     },
     "execution_count": 40,
     "metadata": {},
     "output_type": "execute_result"
    }
   ],
   "source": [
    "data = pd.read_csv(\"myd.txt\")\n",
    "data.head()"
   ]
  },
  {
   "cell_type": "markdown",
   "id": "b2c4cb4e",
   "metadata": {},
   "source": [
    "### Plot the data"
   ]
  },
  {
   "cell_type": "code",
   "execution_count": 41,
   "id": "5f917dd5",
   "metadata": {},
   "outputs": [
    {
     "data": {
      "image/png": "[encoded data removed]",
      "text/plain": [
       "<Figure size 432x288 with 1 Axes>"
      ]
     },
     "metadata": {
      "needs_background": "light"
     },
     "output_type": "display_data"
    }
   ],
   "source": [
    "ax = sns.scatterplot(x='Population', y='Profit', data=data,color = 'r')\n",
    "ax.set_title(\"Profit in $10000s vs City Population in 10000s\");"
   ]
  },
  {
   "cell_type": "markdown",
   "id": "549f965e",
   "metadata": {},
   "source": [
    "### gradient descent "
   ]
  },
  {
   "cell_type": "markdown",
   "id": "32755e2c",
   "metadata": {},
   "source": [
    "##### To perform dot product the X and theta should satisfy matrix mult property"
   ]
  },
  {
   "cell_type": "code",
   "execution_count": 42,
   "id": "b000d4dd",
   "metadata": {},
   "outputs": [],
   "source": [
    "def h(X, theta):\n",
    "    return np.dot(X,theta)"
   ]
  },
  {
   "cell_type": "code",
   "execution_count": 43,
   "id": "89be5b84",
   "metadata": {},
   "outputs": [],
   "source": [
    "def cost_function(X,y,theta):\n",
    "    m = len(y)\n",
    "    cost = (1./(2*m))*np.sum(np.square(h(X,theta)-y))\n",
    "    return cost"
   ]
  },
  {
   "cell_type": "code",
   "execution_count": null,
   "id": "7a29d581-67c3-4979-94ae-b0a934e287b7",
   "metadata": {},
   "outputs": [],
   "source": []
  },
  {
   "cell_type": "code",
   "execution_count": 44,
   "id": "748bc703-f8e6-499c-9f2d-1c74b9bedef3",
   "metadata": {},
   "outputs": [],
   "source": [
    "m = data.Population.values.size\n",
    "X = np.append(np.ones((m, 1)), data.Population.values.reshape(m, 1), axis=1)\n",
    "y = data.Profit.values.reshape(m, 1)\n"
   ]
  },
  {
   "cell_type": "code",
   "execution_count": 45,
   "id": "56b3ccb3-eee2-4f9c-b581-4e2ca480e7ad",
   "metadata": {},
   "outputs": [
    {
     "data": {
      "text/plain": [
       "(97, 2)"
      ]
     },
     "execution_count": 45,
     "metadata": {},
     "output_type": "execute_result"
    }
   ],
   "source": [
    "X.shape"
   ]
  },
  {
   "cell_type": "code",
   "execution_count": 46,
   "id": "3a722e8e-2f32-4954-ba69-af6ffbd51ae5",
   "metadata": {},
   "outputs": [
    {
     "data": {
      "text/plain": [
       "(97, 1)"
      ]
     },
     "execution_count": 46,
     "metadata": {},
     "output_type": "execute_result"
    }
   ],
   "source": [
    "y.shape"
   ]
  },
  {
   "cell_type": "code",
   "execution_count": 47,
   "id": "cfac770a-6f1b-4568-bbd0-3a73ccc80f96",
   "metadata": {},
   "outputs": [
    {
     "data": {
      "text/plain": [
       "32.072733877455676"
      ]
     },
     "execution_count": 47,
     "metadata": {},
     "output_type": "execute_result"
    }
   ],
   "source": [
    "theta = np.zeros((2,1))\n",
    "\n",
    "cost_function(X, y, theta)"
   ]
  },
  {
   "cell_type": "code",
   "execution_count": 48,
   "id": "faa2206b-92a1-47fb-b29b-e48ebd09a54f",
   "metadata": {},
   "outputs": [
    {
     "data": {
      "text/plain": [
       "(2, 1)"
      ]
     },
     "execution_count": 48,
     "metadata": {},
     "output_type": "execute_result"
    }
   ],
   "source": [
    "theta.shape"
   ]
  },
  {
   "cell_type": "markdown",
   "id": "38370f48",
   "metadata": {},
   "source": [
    "#####  Cost function and updation at gradient descent "
   ]
  },
  {
   "cell_type": "code",
   "execution_count": 49,
   "id": "a6fa7d54",
   "metadata": {},
   "outputs": [],
   "source": [
    "def gradient(X,y,theta,alpha,iterations):\n",
    "    \n",
    "    m = len(y)\n",
    "    costs = []\n",
    "    for i in range(iterations):\n",
    "        y_pred = h(X,theta)\n",
    "        \n",
    "        theta -= alpha*1/m*np.dot(X.T,(y_pred-y))\n",
    "        costs.append(cost_function(X,y,theta))\n",
    "       \n",
    "       \n",
    "    return theta, costs\n",
    "      "
   ]
  },
  {
   "cell_type": "code",
   "execution_count": 50,
   "id": "b9a9b9e1",
   "metadata": {},
   "outputs": [],
   "source": [
    "iterations = 1000\n",
    "alpha = 0.01\n"
   ]
  },
  {
   "cell_type": "code",
   "execution_count": 51,
   "id": "2a70cd5f-ec5c-478d-81ca-d4b710a87746",
   "metadata": {},
   "outputs": [],
   "source": [
    "theta,costs= gradient(X,y,theta,alpha,iterations)"
   ]
  },
  {
   "cell_type": "code",
   "execution_count": 52,
   "id": "1941f07e-c07f-4436-9566-0336fd66ced2",
   "metadata": {},
   "outputs": [
    {
     "name": "stdout",
     "output_type": "stream",
     "text": [
      "h(x) = -3.24 + 1.13x\n"
     ]
    }
   ],
   "source": [
    "print(\"h(x) = {} + {}x\".format(str(round(theta[0, 0], 2)),\n",
    "                                str(round(theta[1, 0], 2))))"
   ]
  },
  {
   "cell_type": "code",
   "execution_count": 53,
   "id": "d10c4e44-dc48-4970-ba8f-5ff62a0e066c",
   "metadata": {},
   "outputs": [
    {
     "data": {
      "text/plain": [
       "[<matplotlib.lines.Line2D at 0x7fa438d59df0>]"
      ]
     },
     "execution_count": 53,
     "metadata": {},
     "output_type": "execute_result"
    },
    {
     "data": {
      "image/png": "[encoded data removed]",
      "text/plain": [
       "<Figure size 432x288 with 1 Axes>"
      ]
     },
     "metadata": {
      "needs_background": "light"
     },
     "output_type": "display_data"
    }
   ],
   "source": [
    "plt.plot(costs,color='r')"
   ]
  },
  {
   "cell_type": "markdown",
   "id": "9be75313-3470-4c4c-93b8-eb7001ef0e9c",
   "metadata": {},
   "source": [
    "#### Linear Regression fit "
   ]
  },
  {
   "cell_type": "code",
   "execution_count": 55,
   "id": "84e9a578-a81b-46b6-85fe-1d7c0a173856",
   "metadata": {},
   "outputs": [
    {
     "name": "stderr",
     "output_type": "stream",
     "text": [
      "/home/nishant/notebook/jupyterenv/lib/python3.8/site-packages/seaborn/_decorators.py:36: FutureWarning: Pass the following variables as keyword args: x, y. From version 0.12, the only valid positional argument will be `data`, and passing other arguments without an explicit keyword will result in an error or misinterpretation.\n",
      "  warnings.warn(\n"
     ]
    },
    {
     "data": {
      "text/plain": [
       "Text(0.5, 1.0, 'Linear Regression')"
      ]
     },
     "execution_count": 55,
     "metadata": {},
     "output_type": "execute_result"
    },
    {
     "data": {
      "image/png": "[encoded data removed]",
      "text/plain": [
       "<Figure size 432x288 with 1 Axes>"
      ]
     },
     "metadata": {
      "needs_background": "light"
     },
     "output_type": "display_data"
    }
   ],
   "source": [
    "theta = np.squeeze(theta)\n",
    "\n",
    "sns.scatterplot(x = \"Population\", y = \"Profit\", data = data,color = 'g')\n",
    "\n",
    "x1 = [i for i in range(5,25)]\n",
    "y1 = [(x*theta[1]+theta[0]) for x in x1]\n",
    "sns.lineplot(x1,y1)\n",
    "plt.xlabel(\"Population\")\n",
    "plt.ylabel(\"Profit\")\n",
    "plt.title(\"Linear Regression\")"
   ]
  },
  {
   "cell_type": "code",
   "execution_count": 56,
   "id": "bcf441fd-377f-45c2-aa96-cf66c66693a3",
   "metadata": {},
   "outputs": [],
   "source": [
    "def predict(X, theta):\n",
    "    y_pred = np.dot(X,theta.T)\n",
    "    return y_pred"
   ]
  },
  {
   "cell_type": "code",
   "execution_count": null,
   "id": "d5914837-6a08-4b33-9f73-78bd08599c2e",
   "metadata": {},
   "outputs": [],
   "source": []
  }
 ],
 "metadata": {
  "kernelspec": {
   "display_name": "Python 3 (ipykernel)",
   "language": "python",
   "name": "python3"
  },
  "language_info": {
   "codemirror_mode": {
    "name": "ipython",
    "version": 3
   },
   "file_extension": ".py",
   "mimetype": "text/x-python",
   "name": "python",
   "nbconvert_exporter": "python",
   "pygments_lexer": "ipython3",
   "version": "3.8.10"
  }
 },
 "nbformat": 4,
 "nbformat_minor": 5
}
